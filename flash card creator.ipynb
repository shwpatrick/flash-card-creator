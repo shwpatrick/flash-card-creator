{
 "cells": [
  {
   "cell_type": "code",
   "execution_count": 1,
   "id": "7a501d9d",
   "metadata": {},
   "outputs": [
    {
     "name": "stdout",
     "output_type": "stream",
     "text": [
      "請輸入輸出資料夾名稱：hello\n",
      "✅ 已儲存：hello\\下列何者並非人工智慧（AI）的主要應用領域？.md\n",
      "✅ 已儲存：hello\\在AI倫理中，「可解釋性」（Explainability） 最重要的意義是什麼？.md\n",
      "📁 所有題目已成功轉換為 Markdown 格式！\n"
     ]
    }
   ],
   "source": [
    "import json\n",
    "import os\n",
    "import glob\n",
    "\n",
    "# 讓使用者輸入輸出資料夾名稱\n",
    "output_folder = input(\"請輸入輸出資料夾名稱：\")\n",
    "\n",
    "# 檢查資料夾是否存在，如果不存在則創建\n",
    "os.makedirs(output_folder, exist_ok=True)\n",
    "\n",
    "# 取得 data 資料夾下的所有 .json 檔案\n",
    "json_files = glob.glob(\"data/*.json\")\n",
    "\n",
    "# 逐一處理每個 .json 檔案\n",
    "for json_file in json_files:\n",
    "    with open(json_file, \"r\", encoding=\"utf-8\") as f:\n",
    "        questions = json.load(f)\n",
    "\n",
    "    # 逐題轉換成 Markdown 並存檔\n",
    "    for q in questions:\n",
    "        # 使用題目標題或 ID 作為檔案名稱\n",
    "        filename = os.path.join(output_folder, f\"{q['title']}.md\")\n",
    "        \n",
    "        # 格式化選項\n",
    "        options_text = \"\\n\".join([f\"{k}. {v}\" for k, v in q[\"options\"].items()])\n",
    "\n",
    "        # Markdown 內容\n",
    "        md_content = f\"\"\"{q['question']}\n",
    "{options_text}\n",
    "?\n",
    "正確答案\n",
    "{q['answer']}\n",
    "\n",
    "解題說明\n",
    "{q['explanation']}\n",
    "fc_end\n",
    "\"\"\"\n",
    "        # 寫入 Markdown 檔案\n",
    "        with open(filename, \"w\", encoding=\"utf-8\") as f:\n",
    "            f.write(md_content)\n",
    "\n",
    "        print(f\"✅ 已儲存：{filename}\")\n",
    "\n",
    "print(\"📁 所有題目已成功轉換為 Markdown 格式！\")\n"
   ]
  },
  {
   "cell_type": "code",
   "execution_count": null,
   "id": "b8c3a12b",
   "metadata": {},
   "outputs": [],
   "source": []
  }
 ],
 "metadata": {
  "kernelspec": {
   "display_name": "Python (E)",
   "language": "python",
   "name": "python3"
  },
  "language_info": {
   "codemirror_mode": {
    "name": "ipython",
    "version": 3
   },
   "file_extension": ".py",
   "mimetype": "text/x-python",
   "name": "python",
   "nbconvert_exporter": "python",
   "pygments_lexer": "ipython3",
   "version": "3.10.15"
  }
 },
 "nbformat": 4,
 "nbformat_minor": 5
}
